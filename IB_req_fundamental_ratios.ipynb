{
 "cells": [
  {
   "cell_type": "markdown",
   "metadata": {},
   "source": [
    "# IB require stock fundamental ratios"
   ]
  },
  {
   "cell_type": "code",
   "execution_count": 1,
   "metadata": {},
   "outputs": [],
   "source": [
    "from ib_insync import *\n",
    "import pandas as pd\n",
    "import numpy as np\n",
    "import datetime\n",
    "import pytz"
   ]
  },
  {
   "cell_type": "code",
   "execution_count": 2,
   "metadata": {},
   "outputs": [
    {
     "data": {
      "text/plain": [
       "<IB connected to 127.0.0.1:7496 clientId=1>"
      ]
     },
     "execution_count": 2,
     "metadata": {},
     "output_type": "execute_result"
    }
   ],
   "source": [
    "util.startLoop()\n",
    "# Connect to IB API\n",
    "ib = IB()\n",
    "ib.connect('127.0.0.1', 7496, clientId=1)\n"
   ]
  },
  {
   "cell_type": "code",
   "execution_count": 3,
   "metadata": {},
   "outputs": [],
   "source": [
    "# Security (with certain query format) stock as an example\n",
    "contract = Stock('AAPL','SMART','USD')"
   ]
  },
  {
   "cell_type": "code",
   "execution_count": 9,
   "metadata": {},
   "outputs": [
    {
     "data": {
      "text/plain": [
       "Ticker(contract=Stock(conId=265598, symbol='AAPL', exchange='SMART', primaryExchange='NASDAQ', currency='USD', localSymbol='AAPL', tradingClass='NMS'), time=datetime.datetime(2019, 7, 18, 13, 38, 59, 719875, tzinfo=datetime.timezone.utc), bid=205.36, bidSize=7, ask=205.39, askSize=9, last=205.4, lastSize=1, prevBid=205.38, prevBidSize=6, prevAsk=205.37, prevAskSize=15, prevLast=205.42, prevLastSize=3, volume=20164, open=203.91, high=205.78, low=203.7, close=203.35, halted=0.0, fundamentalRatios=FundamentalRatios(TTMNPMGN=21.69136, NLOW=142, ACFSHR=14.38949, ALTCL=nan, TTMPRCFPS=13.85254, TTMCFSHR=14.1155, ASFCF=-2527, AEPSNORM=12.20893, TTMRECTURN=17.57897, AATCA=131339, QCSHPS=17.38378, TTMFCF=45636, LATESTADATE='2019-03-30', APTMGNPCT=27.44894, TTMNIAC=56070, EV_Cur=941521.2, QATCA=123346, PR2TANBK=8.88834, TTMFCFSHR=9.48376, NPRICE=204.5, ASICF=29379, REVTRENDGR=9.21706, QSCEX=-2363, PRICE2BK=8.90034, ALSTD=nan, AOTLO=77434, TTMPAYRAT=25.57161, QPR2REV=16.24045, TTMREVCHG=4.47544, TTMROAPCT=15.8055, QTOTCE=105860, APENORM=16.75003, QLTCL=93772, QSFCF=-109, TTMROIPCT=21.30287, DIVGRPCT=11.16495, QOTLO=11155, TTMEPSCHG=12.72856, YIELD=1.525672, TTMREVPS=53.71764, TTMEBT=67404, ADIV5YAVG=2.21829, Frac52Wk=0.7182636, NHIG=233.47, ASCEX=-13313, QTA=341998, TTMGROSMGN=38.0506, QTL=247302, AFPRD=432, QCURRATIO=1.31538, TTMREV=258490, TTMINVTURN=25.52734, QCASH=80092, QLSTD=11924, TTMOPMGN=25.33599, TTMPR2REV=3.64006, QSICF=15711, TTMNIPEREM=424772.7, EPSCHNGYR=-9.81247, TTMPRFCFPS=20.61793, TTMPTMGN=26.07606, AREVPS=53.11784, AEBTNORM=72903, ASOPI=70898, NetDebt_I=32538, PRYTDPCTR=8.18676, TTMEBITD=77345, AFEEPSNTM=11.977, EPSTRENDGR=16.54078, QTOTD2EQ=106.3952, QSOPI=13415, QBVPS=22.97666, YLD5YAVG=1.56652, PR13WKPCT=3.030123, PR52WKPCT=8.442355, AROAPCT=16.47568, QTOTLTD=90201, TTMEPSXCLX=11.66718, QPRCFPS=nan, QTANBVPS=22.97666, AROIPCT=23.28662, QEBIT=13445, QEBITDA=16455, MKTCAP=940919.8, TTMINTCOV=nan, TTMROEPCT=48.18294, TTMREVPERE=1958258, AEPSXCLXOR=12.20893, QFPRD=-2593, REVCHNGYR=-5.10656, AFPSS=-72069, CURRENCY='USD', EV2EBITDA_Cur=57.21794, PEEXCLXOR=17.5278, QQUICKRATI=1.2633, ASINN=nan, QFPSS=-23312, BETA=1.23845, ANIACNORM=61046, PR1WKPCT=1.619954, QLTD2EQ=85.20782, QSINN=nan, PR4WKPCT=3.048628, AEBIT=70457), ticks=[], tickByTicks=[], domBids=[], domAsks=[], domTicks=[])"
      ]
     },
     "execution_count": 9,
     "metadata": {},
     "output_type": "execute_result"
    }
   ],
   "source": [
    "# Require fundamental ratio info from IB\n",
    "# refer to ib.reqFundamentalData() for other types of financial statements\n",
    "# refer to fundamental ratio tag at https://interactivebrokers.github.io/tws-api/fundamental_ratios_tags.html\n",
    "ib.qualifyContracts(contract)\n",
    "tick = ib.reqMktData(contract, '258')\n",
    "tick"
   ]
  },
  {
   "cell_type": "code",
   "execution_count": 26,
   "metadata": {},
   "outputs": [
    {
     "name": "stdout",
     "output_type": "stream",
     "text": [
      "Help on method reqMktData in module ib_insync.ib:\n",
      "\n",
      "reqMktData(contract: ib_insync.contract.Contract, genericTickList: str = '', snapshot: bool = False, regulatorySnapshot: bool = False, mktDataOptions: List[ib_insync.objects.TagValue] = None) -> ib_insync.ticker.Ticker method of ib_insync.ib.IB instance\n",
      "    Subscribe to tick data or request a snapshot.\n",
      "    Returns the Ticker that holds the market data. The ticker will\n",
      "    initially be empty and gradually (after a couple of seconds)\n",
      "    be filled.\n",
      "    \n",
      "    https://interactivebrokers.github.io/tws-api/md_request.html\n",
      "    \n",
      "    Args:\n",
      "        contract: Contract of interest.\n",
      "        genericTickList: Comma separated IDs of desired\n",
      "            generic ticks that will cause corresponding Ticker fields\n",
      "            to be filled:\n",
      "    \n",
      "            =====  ================================================\n",
      "            ID     Ticker fields\n",
      "            =====  ================================================\n",
      "            100    ``putVolume``, ``callVolume`` (for options)\n",
      "            101    ``putOpenInterest``, ``callOpenInterest`` (for options)\n",
      "            104    ``histVolatility`` (for options)\n",
      "            105    ``avOptionVolume`` (for options)\n",
      "            106    ``impliedVolatility`` (for options)\n",
      "            162    ``indexFuturePremium``\n",
      "            165    ``low13week``, ``high13week``, ``low26week``,\n",
      "                   ``high26week``, ``low52week``, ``high52week``,\n",
      "                   ``avVolume``\n",
      "            221    ``markPrice``\n",
      "            233    ``last``, ``lastSize``, ``rtVolume``, ``vwap``\n",
      "                   (Time & Sales)\n",
      "            236    ``shortableShares``\n",
      "            258    ``fundamentalRatios`` (of type\n",
      "                   :class:`ib_insync.objects.FundamentalRatios`)\n",
      "            293    ``tradeCount``\n",
      "            294    ``tradeRate``\n",
      "            295    ``volumeRate``\n",
      "            411    ``rtHistVolatility``\n",
      "            456    ``dividends`` (of type\n",
      "                   :class:`ib_insync.objects.Dividends`)\n",
      "            588    ``futuresOpenInterest``\n",
      "            =====  ================================================\n",
      "    \n",
      "        snapshot: If True then request a one-time snapshot, otherwise\n",
      "            subscribe to a stream of realtime tick data.\n",
      "        regulatorySnapshot: Request NBBO snapshot (may incur a fee).\n",
      "        mktDataOptions: Unknown\n",
      "\n"
     ]
    }
   ],
   "source": [
    "help(ib.reqMktData)"
   ]
  },
  {
   "cell_type": "code",
   "execution_count": 25,
   "metadata": {},
   "outputs": [
    {
     "name": "stdout",
     "output_type": "stream",
     "text": [
      "Help on method reqFundamentalData in module ib_insync.ib:\n",
      "\n",
      "reqFundamentalData(contract: ib_insync.contract.Contract, reportType: str, fundamentalDataOptions: List[ib_insync.objects.TagValue] = None) -> str method of ib_insync.ib.IB instance\n",
      "    Get fundamental data of a contract in XML format.\n",
      "    \n",
      "    This method is blocking.\n",
      "    \n",
      "    https://interactivebrokers.github.io/tws-api/fundamentals.html\n",
      "    \n",
      "    Args:\n",
      "        contract: Contract to query.\n",
      "        reportType:\n",
      "    \n",
      "            * 'ReportsFinSummary': Financial summary\n",
      "            * 'ReportsOwnership': Company's ownership\n",
      "            * 'ReportSnapshot': Company's financial overview\n",
      "            * 'ReportsFinStatements': Financial Statements\n",
      "            * 'RESC': Analyst Estimates\n",
      "            * 'CalendarReport': Company's calendar\n",
      "        fundamentalDataOptions: Unknown\n",
      "\n"
     ]
    }
   ],
   "source": [
    "help(ib.reqFundamentalData)"
   ]
  },
  {
   "cell_type": "code",
   "execution_count": null,
   "metadata": {},
   "outputs": [],
   "source": []
  }
 ],
 "metadata": {
  "kernelspec": {
   "display_name": "Python 3",
   "language": "python",
   "name": "python3"
  },
  "language_info": {
   "codemirror_mode": {
    "name": "ipython",
    "version": 3
   },
   "file_extension": ".py",
   "mimetype": "text/x-python",
   "name": "python",
   "nbconvert_exporter": "python",
   "pygments_lexer": "ipython3",
   "version": "3.7.3"
  }
 },
 "nbformat": 4,
 "nbformat_minor": 2
}
