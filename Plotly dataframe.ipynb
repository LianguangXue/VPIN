{
 "cells": [
  {
   "cell_type": "markdown",
   "metadata": {},
   "source": [
    "# Plotly Dataframe "
   ]
  },
  {
   "cell_type": "code",
   "execution_count": 1,
   "metadata": {},
   "outputs": [],
   "source": [
    "#import plotly.plotly as py\n",
    "import plotly\n",
    "import numpy as np\n",
    "import pandas as pd\n",
    "import plotly.plotly as py\n",
    "import plotly.tools as tls\n",
    "import plotly.graph_objs as go\n",
    "import datetime\n",
    "import time\n",
    "\n",
    "tls.set_credentials_file(username='lxue10',api_key=\"F29SN8EVwOJKhZBoT3wG\")\n"
   ]
  },
  {
   "cell_type": "code",
   "execution_count": 53,
   "metadata": {},
   "outputs": [],
   "source": [
    "df = pd.read_csv('VPIN_new.csv',index_col = [0],parse_dates = True)"
   ]
  },
  {
   "cell_type": "code",
   "execution_count": 43,
   "metadata": {},
   "outputs": [],
   "source": [
    "#stream_ids = tls.get_credentials_file()['stream_ids']\n",
    "#print(stream_ids)\n",
    "stream_ids = [u'8i780q45ku','tnc2io6pay','v2icvduevy']\n",
    "\n",
    "# Get stream id from stream id list \n",
    "stream_id1 = stream_ids[0]\n",
    "stream_id2 = stream_ids[1]\n",
    "\n",
    "# Make instance of stream id object \n",
    "stream_1 = go.scatter.Stream(\n",
    "    token=stream_id1,  # link stream id to 'token' key\n",
    "    maxpoints=400      # keep a max of 80 pts on screen\n",
    ")\n",
    "\n",
    "stream_2 = go.scatter.Stream(\n",
    "    token=stream_id2,  # link stream id to 'token' key\n",
    "    maxpoints=400      # keep a max of 80 pts on screen\n",
    ")\n",
    "# input dataframe, draw the VPIN live plot\n",
    "# Initialize trace of streaming plot by embedding the unique stream_id\n"
   ]
  },
  {
   "cell_type": "code",
   "execution_count": 44,
   "metadata": {},
   "outputs": [
    {
     "name": "stdout",
     "output_type": "stream",
     "text": [
      "This is the format of your plot grid:\n",
      "[ (1,1) x1,y1 ]\n",
      "[ (2,1) x2,y2 ]\n",
      "\n"
     ]
    },
    {
     "data": {
      "text/html": [
       "<iframe id=\"igraph\" scrolling=\"no\" style=\"border:none;\" seamless=\"seamless\" src=\"https://plot.ly/~lxue10/7.embed\" height=\"525px\" width=\"100%\"></iframe>"
      ],
      "text/plain": [
       "<chart_studio.tools.PlotlyDisplay object>"
      ]
     },
     "execution_count": 44,
     "metadata": {},
     "output_type": "execute_result"
    }
   ],
   "source": [
    "# Initialize trace of streaming plot by embedding the unique stream_id\n",
    "trace1 = go.Scatter(\n",
    "    x=[],\n",
    "    y=[],\n",
    "    mode='lines+markers',\n",
    "    stream=stream_1         # (!) embed stream id, 1 per trace\n",
    ")\n",
    "\n",
    "trace2 = go.Scatter(\n",
    "    x=[],\n",
    "    y=[],\n",
    "    mode='lines+markers',\n",
    "    stream=stream_2         # (!) embed stream id, 1 per trace\n",
    ")\n",
    "\n",
    "\n",
    "# Add title to layout object\n",
    "#layout = go.Layout(title='Time Series')\n",
    "\n",
    "# Make a figure object\n",
    "fig = tls.make_subplots(rows=2, cols=1)\n",
    "fig.append_trace(trace1, 1, 1)\n",
    "fig.append_trace(trace2, 2, 1)\n",
    "#fig = go.Figure(data=data, layout=layout)\n",
    "#fig = go.Figure(data = [trace1, trace2], layout = layout)\n",
    "one_more_trace=dict(type='scatter',\n",
    "                                   x=[df.index[0],df.index[-1]],\n",
    "                                   y=[0.99,0.99],\n",
    "                                   mode='lines',\n",
    "                                   line=dict(color='red'))\n",
    "fig.append_trace(one_more_trace, 1, 1)\n",
    "# Send fig to Plotly, initialize streaming plot, open new tab\n",
    "py.iplot(fig, filename='python-streaming')"
   ]
  },
  {
   "cell_type": "code",
   "execution_count": 45,
   "metadata": {},
   "outputs": [],
   "source": [
    "# We will provide the stream link object the same token that's associated with the trace we wish to stream to\n",
    "s1 = py.Stream(stream_id1)\n",
    "s2 = py.Stream(stream_id2)\n",
    "\n",
    "# We then open a connection\n",
    "s1.open()\n",
    "s2.open()\n",
    "# (*) Import module keep track and format current time\n"
   ]
  },
  {
   "cell_type": "code",
   "execution_count": 46,
   "metadata": {},
   "outputs": [],
   "source": [
    "# Use plotly to draw two subplots with max VPIN, corresponding close price and threshold\n",
    "def plotly_df(df):\n",
    "    i = 0    # a counter\n",
    "\n",
    "    # Delay start of stream by 5 sec (time to switch tabs)\n",
    "    time.sleep(5)\n",
    "\n",
    "    t = 0\n",
    "    while (i<len(df)):\n",
    "\n",
    "        x = df.time[i]\n",
    "        y = df.VPIN[i]\n",
    "        z = df['close price'][i]\n",
    "        #y = float(np.random.randn(1))\n",
    "        i += 1\n",
    "\n",
    "        # Send data to your plot\n",
    "        s1.write(dict(x=x, y=y))\n",
    "        s2.write(dict(x=x, y=z))\n",
    "\n",
    "        #     Write numbers to stream to append current data on plot,\n",
    "        #     write lists to overwrite existing data on plot\n",
    "\n",
    "        time.sleep(1)  # plot a point every second    \n",
    "    # Close the stream when done plotting\n",
    "    s1.close()\n",
    "    s2.close()\n",
    "    \n"
   ]
  },
  {
   "cell_type": "code",
   "execution_count": 55,
   "metadata": {},
   "outputs": [
    {
     "data": {
      "text/html": [
       "<div>\n",
       "<style scoped>\n",
       "    .dataframe tbody tr th:only-of-type {\n",
       "        vertical-align: middle;\n",
       "    }\n",
       "\n",
       "    .dataframe tbody tr th {\n",
       "        vertical-align: top;\n",
       "    }\n",
       "\n",
       "    .dataframe thead th {\n",
       "        text-align: right;\n",
       "    }\n",
       "</style>\n",
       "<table border=\"1\" class=\"dataframe\">\n",
       "  <thead>\n",
       "    <tr style=\"text-align: right;\">\n",
       "      <th></th>\n",
       "      <th>VPIN</th>\n",
       "      <th>close price</th>\n",
       "      <th>time</th>\n",
       "    </tr>\n",
       "  </thead>\n",
       "  <tbody>\n",
       "    <tr>\n",
       "      <th>0</th>\n",
       "      <td>0.900410</td>\n",
       "      <td>28.770</td>\n",
       "      <td>2010-03-01 09:30:01</td>\n",
       "    </tr>\n",
       "    <tr>\n",
       "      <th>1</th>\n",
       "      <td>0.923326</td>\n",
       "      <td>28.775</td>\n",
       "      <td>2010-03-01 09:30:03</td>\n",
       "    </tr>\n",
       "    <tr>\n",
       "      <th>2</th>\n",
       "      <td>0.936909</td>\n",
       "      <td>28.765</td>\n",
       "      <td>2010-03-01 09:30:11</td>\n",
       "    </tr>\n",
       "    <tr>\n",
       "      <th>3</th>\n",
       "      <td>0.922469</td>\n",
       "      <td>28.765</td>\n",
       "      <td>2010-03-01 09:30:21</td>\n",
       "    </tr>\n",
       "    <tr>\n",
       "      <th>4</th>\n",
       "      <td>0.905441</td>\n",
       "      <td>28.770</td>\n",
       "      <td>2010-03-01 09:30:43</td>\n",
       "    </tr>\n",
       "    <tr>\n",
       "      <th>5</th>\n",
       "      <td>0.876876</td>\n",
       "      <td>28.765</td>\n",
       "      <td>2010-03-01 09:30:47</td>\n",
       "    </tr>\n",
       "    <tr>\n",
       "      <th>6</th>\n",
       "      <td>0.806924</td>\n",
       "      <td>28.730</td>\n",
       "      <td>2010-03-01 09:30:51</td>\n",
       "    </tr>\n",
       "    <tr>\n",
       "      <th>7</th>\n",
       "      <td>0.687992</td>\n",
       "      <td>28.720</td>\n",
       "      <td>2010-03-01 09:31:07</td>\n",
       "    </tr>\n",
       "    <tr>\n",
       "      <th>8</th>\n",
       "      <td>0.629904</td>\n",
       "      <td>28.720</td>\n",
       "      <td>2010-03-01 09:31:21</td>\n",
       "    </tr>\n",
       "    <tr>\n",
       "      <th>9</th>\n",
       "      <td>0.500201</td>\n",
       "      <td>28.730</td>\n",
       "      <td>2010-03-01 09:31:36</td>\n",
       "    </tr>\n",
       "    <tr>\n",
       "      <th>10</th>\n",
       "      <td>0.552797</td>\n",
       "      <td>28.730</td>\n",
       "      <td>2010-03-01 09:31:45</td>\n",
       "    </tr>\n",
       "  </tbody>\n",
       "</table>\n",
       "</div>"
      ],
      "text/plain": [
       "        VPIN  close price                time\n",
       "0   0.900410       28.770 2010-03-01 09:30:01\n",
       "1   0.923326       28.775 2010-03-01 09:30:03\n",
       "2   0.936909       28.765 2010-03-01 09:30:11\n",
       "3   0.922469       28.765 2010-03-01 09:30:21\n",
       "4   0.905441       28.770 2010-03-01 09:30:43\n",
       "5   0.876876       28.765 2010-03-01 09:30:47\n",
       "6   0.806924       28.730 2010-03-01 09:30:51\n",
       "7   0.687992       28.720 2010-03-01 09:31:07\n",
       "8   0.629904       28.720 2010-03-01 09:31:21\n",
       "9   0.500201       28.730 2010-03-01 09:31:36\n",
       "10  0.552797       28.730 2010-03-01 09:31:45"
      ]
     },
     "execution_count": 55,
     "metadata": {},
     "output_type": "execute_result"
    }
   ],
   "source": [
    "ticktime = np.array(df.index) \n",
    "df1 = df.copy()\n",
    "df1['time'] = ticktime\n",
    "df1.index = range(len(df))\n",
    "df_max = df1.loc[df1.groupby(by = 'time')['VPIN'].idxmax()]\n",
    "df_max.index = range(len(df_max))\n",
    "df_max #uniq max VPIN sub df "
   ]
  },
  {
   "cell_type": "code",
   "execution_count": 40,
   "metadata": {},
   "outputs": [],
   "source": [
    "plotly_df(df_max)"
   ]
  },
  {
   "cell_type": "code",
   "execution_count": null,
   "metadata": {},
   "outputs": [],
   "source": []
  }
 ],
 "metadata": {
  "kernelspec": {
   "display_name": "Python 3",
   "language": "python",
   "name": "python3"
  },
  "language_info": {
   "codemirror_mode": {
    "name": "ipython",
    "version": 3
   },
   "file_extension": ".py",
   "mimetype": "text/x-python",
   "name": "python",
   "nbconvert_exporter": "python",
   "pygments_lexer": "ipython3",
   "version": "3.7.3"
  }
 },
 "nbformat": 4,
 "nbformat_minor": 2
}
